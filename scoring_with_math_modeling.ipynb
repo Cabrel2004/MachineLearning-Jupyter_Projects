{
 "cells": [
  {
   "cell_type": "code",
   "execution_count": 2,
   "id": "37d5f5f1-c193-4d81-9d95-51f4e55fda94",
   "metadata": {},
   "outputs": [
    {
     "name": "stdout",
     "output_type": "stream",
     "text": [
      "Loaded rows: 1908825\n"
     ]
    }
   ],
   "source": [
    "# Cell 1 - imports & load\n",
    "import pandas as pd\n",
    "import numpy as np\n",
    "import matplotlib.pyplot as plt\n",
    "\n",
    "pd.set_option(\"display.max_columns\", 80)\n",
    "pd.set_option(\"display.width\", 200)\n",
    "\n",
    "# path to your merged client features CSV\n",
    "path = r\"E:\\client_features.csv\" \n",
    "df = pd.read_csv(path, sep=\";\", dtype=str)\n",
    "print(\"Loaded rows:\", len(df))\n"
   ]
  },
  {
   "cell_type": "code",
   "execution_count": 3,
   "id": "f4d5da8a-da55-4525-a329-e2e96da301b7",
   "metadata": {},
   "outputs": [
    {
     "name": "stdout",
     "output_type": "stream",
     "text": [
      "Columns:\n",
      " ['dailyLoanCount', 'promoLoanCount', 'debt', 'clientMaxAmount', 'subscriptionAmount', 'dueAmount', 'totalRefunded', 'clientID', 'subscriptionDate', 'unsubscriptionDate', 'penaltyDebt', 'loanAmount_sum', 'loanAmount_max', 'loanAmount_mean', 'amountPaid_sum', 'amountPaid_mean', 'penaltyAmount_sum', 'loanID_count', 'amount_sum', 'amount_mean', 'amount_count']\n"
     ]
    },
    {
     "data": {
      "text/html": [
       "<div>\n",
       "<style scoped>\n",
       "    .dataframe tbody tr th:only-of-type {\n",
       "        vertical-align: middle;\n",
       "    }\n",
       "\n",
       "    .dataframe tbody tr th {\n",
       "        vertical-align: top;\n",
       "    }\n",
       "\n",
       "    .dataframe thead th {\n",
       "        text-align: right;\n",
       "    }\n",
       "</style>\n",
       "<table border=\"1\" class=\"dataframe\">\n",
       "  <thead>\n",
       "    <tr style=\"text-align: right;\">\n",
       "      <th></th>\n",
       "      <th>dailyLoanCount</th>\n",
       "      <th>promoLoanCount</th>\n",
       "      <th>debt</th>\n",
       "      <th>clientMaxAmount</th>\n",
       "      <th>subscriptionAmount</th>\n",
       "      <th>dueAmount</th>\n",
       "      <th>totalRefunded</th>\n",
       "      <th>clientID</th>\n",
       "      <th>subscriptionDate</th>\n",
       "      <th>unsubscriptionDate</th>\n",
       "      <th>penaltyDebt</th>\n",
       "      <th>loanAmount_sum</th>\n",
       "      <th>loanAmount_max</th>\n",
       "      <th>loanAmount_mean</th>\n",
       "      <th>amountPaid_sum</th>\n",
       "      <th>amountPaid_mean</th>\n",
       "      <th>penaltyAmount_sum</th>\n",
       "      <th>loanID_count</th>\n",
       "      <th>amount_sum</th>\n",
       "      <th>amount_mean</th>\n",
       "      <th>amount_count</th>\n",
       "    </tr>\n",
       "  </thead>\n",
       "  <tbody>\n",
       "    <tr>\n",
       "      <th>0</th>\n",
       "      <td>0</td>\n",
       "      <td>0</td>\n",
       "      <td>10411.0</td>\n",
       "      <td>25000.0</td>\n",
       "      <td>300.0</td>\n",
       "      <td>10750.0</td>\n",
       "      <td>1146.0</td>\n",
       "      <td>683755851</td>\n",
       "      <td>07/11/2023</td>\n",
       "      <td>2026-05-14 23:00:00.000</td>\n",
       "      <td>0.0</td>\n",
       "      <td>65333.0</td>\n",
       "      <td>33333.0</td>\n",
       "      <td>9333.285714285714</td>\n",
       "      <td>75333.0</td>\n",
       "      <td>10761.857142857143</td>\n",
       "      <td>35000.0</td>\n",
       "      <td>7.0</td>\n",
       "      <td>25312.0</td>\n",
       "      <td>2812.4444444444443</td>\n",
       "      <td>9</td>\n",
       "    </tr>\n",
       "    <tr>\n",
       "      <th>1</th>\n",
       "      <td>0</td>\n",
       "      <td>0</td>\n",
       "      <td>0.0</td>\n",
       "      <td>2000.0</td>\n",
       "      <td>300.0</td>\n",
       "      <td>0.0</td>\n",
       "      <td>0.0</td>\n",
       "      <td>671846141</td>\n",
       "      <td>07/11/2023</td>\n",
       "      <td>NaN</td>\n",
       "      <td>0.0</td>\n",
       "      <td>0.0</td>\n",
       "      <td>0.0</td>\n",
       "      <td>0.0</td>\n",
       "      <td>0.0</td>\n",
       "      <td>0.0</td>\n",
       "      <td>0.0</td>\n",
       "      <td>0.0</td>\n",
       "      <td>0.0</td>\n",
       "      <td>0.0</td>\n",
       "      <td>0</td>\n",
       "    </tr>\n",
       "    <tr>\n",
       "      <th>2</th>\n",
       "      <td>0</td>\n",
       "      <td>0</td>\n",
       "      <td>0.0</td>\n",
       "      <td>20518.0</td>\n",
       "      <td>300.0</td>\n",
       "      <td>0.0</td>\n",
       "      <td>0.0</td>\n",
       "      <td>673587463</td>\n",
       "      <td>07/11/2023</td>\n",
       "      <td>2024-11-25 23:00:00.000</td>\n",
       "      <td>0.0</td>\n",
       "      <td>65500.0</td>\n",
       "      <td>31500.0</td>\n",
       "      <td>10916.666666666666</td>\n",
       "      <td>75560.0</td>\n",
       "      <td>12593.333333333334</td>\n",
       "      <td>30000.0</td>\n",
       "      <td>6.0</td>\n",
       "      <td>42372.0</td>\n",
       "      <td>10593.0</td>\n",
       "      <td>4</td>\n",
       "    </tr>\n",
       "    <tr>\n",
       "      <th>3</th>\n",
       "      <td>0</td>\n",
       "      <td>0</td>\n",
       "      <td>9988.0</td>\n",
       "      <td>8805.0</td>\n",
       "      <td>300.0</td>\n",
       "      <td>9460.0</td>\n",
       "      <td>182.0</td>\n",
       "      <td>681126794</td>\n",
       "      <td>07/11/2023</td>\n",
       "      <td>2024-11-07 23:00:00.000</td>\n",
       "      <td>5000.0</td>\n",
       "      <td>8800.0</td>\n",
       "      <td>8800.0</td>\n",
       "      <td>8800.0</td>\n",
       "      <td>10170.0</td>\n",
       "      <td>10170.0</td>\n",
       "      <td>5000.0</td>\n",
       "      <td>1.0</td>\n",
       "      <td>0.0</td>\n",
       "      <td>0.0</td>\n",
       "      <td>0</td>\n",
       "    </tr>\n",
       "    <tr>\n",
       "      <th>4</th>\n",
       "      <td>0</td>\n",
       "      <td>0</td>\n",
       "      <td>2418.0</td>\n",
       "      <td>9654.0</td>\n",
       "      <td>300.0</td>\n",
       "      <td>3225.0</td>\n",
       "      <td>1049.0</td>\n",
       "      <td>654758551</td>\n",
       "      <td>07/11/2023</td>\n",
       "      <td>2024-11-08 23:00:00.000</td>\n",
       "      <td>5000.0</td>\n",
       "      <td>7500.0</td>\n",
       "      <td>6000.0</td>\n",
       "      <td>2500.0</td>\n",
       "      <td>8598.0</td>\n",
       "      <td>2866.0</td>\n",
       "      <td>15000.0</td>\n",
       "      <td>3.0</td>\n",
       "      <td>7479.0</td>\n",
       "      <td>679.9090909090909</td>\n",
       "      <td>11</td>\n",
       "    </tr>\n",
       "    <tr>\n",
       "      <th>5</th>\n",
       "      <td>0</td>\n",
       "      <td>0</td>\n",
       "      <td>1075.0</td>\n",
       "      <td>1928.0</td>\n",
       "      <td>300.0</td>\n",
       "      <td>1075.0</td>\n",
       "      <td>0.0</td>\n",
       "      <td>651250572</td>\n",
       "      <td>07/11/2023</td>\n",
       "      <td>2025-12-24 23:00:00.000</td>\n",
       "      <td>0.0</td>\n",
       "      <td>5742.0</td>\n",
       "      <td>2121.0</td>\n",
       "      <td>1435.5</td>\n",
       "      <td>5444.0</td>\n",
       "      <td>1361.0</td>\n",
       "      <td>20000.0</td>\n",
       "      <td>4.0</td>\n",
       "      <td>0.0</td>\n",
       "      <td>0.0</td>\n",
       "      <td>0</td>\n",
       "    </tr>\n",
       "  </tbody>\n",
       "</table>\n",
       "</div>"
      ],
      "text/plain": [
       "  dailyLoanCount promoLoanCount     debt clientMaxAmount subscriptionAmount dueAmount totalRefunded   clientID subscriptionDate       unsubscriptionDate penaltyDebt loanAmount_sum loanAmount_max  \\\n",
       "0              0              0  10411.0         25000.0              300.0   10750.0        1146.0  683755851       07/11/2023  2026-05-14 23:00:00.000         0.0        65333.0        33333.0   \n",
       "1              0              0      0.0          2000.0              300.0       0.0           0.0  671846141       07/11/2023                      NaN         0.0            0.0            0.0   \n",
       "2              0              0      0.0         20518.0              300.0       0.0           0.0  673587463       07/11/2023  2024-11-25 23:00:00.000         0.0        65500.0        31500.0   \n",
       "3              0              0   9988.0          8805.0              300.0    9460.0         182.0  681126794       07/11/2023  2024-11-07 23:00:00.000      5000.0         8800.0         8800.0   \n",
       "4              0              0   2418.0          9654.0              300.0    3225.0        1049.0  654758551       07/11/2023  2024-11-08 23:00:00.000      5000.0         7500.0         6000.0   \n",
       "5              0              0   1075.0          1928.0              300.0    1075.0           0.0  651250572       07/11/2023  2025-12-24 23:00:00.000         0.0         5742.0         2121.0   \n",
       "\n",
       "      loanAmount_mean amountPaid_sum     amountPaid_mean penaltyAmount_sum loanID_count amount_sum         amount_mean amount_count  \n",
       "0   9333.285714285714        75333.0  10761.857142857143           35000.0          7.0    25312.0  2812.4444444444443            9  \n",
       "1                 0.0            0.0                 0.0               0.0          0.0        0.0                 0.0            0  \n",
       "2  10916.666666666666        75560.0  12593.333333333334           30000.0          6.0    42372.0             10593.0            4  \n",
       "3              8800.0        10170.0             10170.0            5000.0          1.0        0.0                 0.0            0  \n",
       "4              2500.0         8598.0              2866.0           15000.0          3.0     7479.0   679.9090909090909           11  \n",
       "5              1435.5         5444.0              1361.0           20000.0          4.0        0.0                 0.0            0  "
      ]
     },
     "metadata": {},
     "output_type": "display_data"
    },
    {
     "name": "stdout",
     "output_type": "stream",
     "text": [
      "<class 'pandas.core.frame.DataFrame'>\n",
      "RangeIndex: 1908825 entries, 0 to 1908824\n",
      "Data columns (total 21 columns):\n",
      " #   Column              Dtype \n",
      "---  ------              ----- \n",
      " 0   dailyLoanCount      object\n",
      " 1   promoLoanCount      object\n",
      " 2   debt                object\n",
      " 3   clientMaxAmount     object\n",
      " 4   subscriptionAmount  object\n",
      " 5   dueAmount           object\n",
      " 6   totalRefunded       object\n",
      " 7   clientID            object\n",
      " 8   subscriptionDate    object\n",
      " 9   unsubscriptionDate  object\n",
      " 10  penaltyDebt         object\n",
      " 11  loanAmount_sum      object\n",
      " 12  loanAmount_max      object\n",
      " 13  loanAmount_mean     object\n",
      " 14  amountPaid_sum      object\n",
      " 15  amountPaid_mean     object\n",
      " 16  penaltyAmount_sum   object\n",
      " 17  loanID_count        object\n",
      " 18  amount_sum          object\n",
      " 19  amount_mean         object\n",
      " 20  amount_count        object\n",
      "dtypes: object(21)\n",
      "memory usage: 305.8+ MB\n"
     ]
    },
    {
     "data": {
      "text/plain": [
       "None"
      ]
     },
     "metadata": {},
     "output_type": "display_data"
    }
   ],
   "source": [
    "# Cell 2 - quick inspection \n",
    "print(\"Columns:\\n\", df.columns.tolist())\n",
    "display(df.head(6))\n",
    "display(df.info())\n"
   ]
  },
  {
   "cell_type": "code",
   "execution_count": 4,
   "id": "9aee7759-141f-4181-bd42-2af8f3adccf8",
   "metadata": {},
   "outputs": [
    {
     "name": "stdout",
     "output_type": "stream",
     "text": [
      "Numeric conversion done. Sample:\n"
     ]
    },
    {
     "data": {
      "text/html": [
       "<div>\n",
       "<style scoped>\n",
       "    .dataframe tbody tr th:only-of-type {\n",
       "        vertical-align: middle;\n",
       "    }\n",
       "\n",
       "    .dataframe tbody tr th {\n",
       "        vertical-align: top;\n",
       "    }\n",
       "\n",
       "    .dataframe thead th {\n",
       "        text-align: right;\n",
       "    }\n",
       "</style>\n",
       "<table border=\"1\" class=\"dataframe\">\n",
       "  <thead>\n",
       "    <tr style=\"text-align: right;\">\n",
       "      <th></th>\n",
       "      <th>clientID</th>\n",
       "      <th>loanAmount_sum</th>\n",
       "      <th>amountPaid_sum</th>\n",
       "      <th>debt</th>\n",
       "      <th>clientMaxAmount</th>\n",
       "      <th>totalRefunded</th>\n",
       "      <th>penaltyDebt</th>\n",
       "      <th>loanID_count</th>\n",
       "    </tr>\n",
       "  </thead>\n",
       "  <tbody>\n",
       "    <tr>\n",
       "      <th>0</th>\n",
       "      <td>683755851</td>\n",
       "      <td>65333.0</td>\n",
       "      <td>75333.0</td>\n",
       "      <td>10411.0</td>\n",
       "      <td>25000.0</td>\n",
       "      <td>1146.0</td>\n",
       "      <td>0.0</td>\n",
       "      <td>7.0</td>\n",
       "    </tr>\n",
       "    <tr>\n",
       "      <th>1</th>\n",
       "      <td>671846141</td>\n",
       "      <td>0.0</td>\n",
       "      <td>0.0</td>\n",
       "      <td>0.0</td>\n",
       "      <td>2000.0</td>\n",
       "      <td>0.0</td>\n",
       "      <td>0.0</td>\n",
       "      <td>0.0</td>\n",
       "    </tr>\n",
       "    <tr>\n",
       "      <th>2</th>\n",
       "      <td>673587463</td>\n",
       "      <td>65500.0</td>\n",
       "      <td>75560.0</td>\n",
       "      <td>0.0</td>\n",
       "      <td>20518.0</td>\n",
       "      <td>0.0</td>\n",
       "      <td>0.0</td>\n",
       "      <td>6.0</td>\n",
       "    </tr>\n",
       "    <tr>\n",
       "      <th>3</th>\n",
       "      <td>681126794</td>\n",
       "      <td>8800.0</td>\n",
       "      <td>10170.0</td>\n",
       "      <td>9988.0</td>\n",
       "      <td>8805.0</td>\n",
       "      <td>182.0</td>\n",
       "      <td>5000.0</td>\n",
       "      <td>1.0</td>\n",
       "    </tr>\n",
       "    <tr>\n",
       "      <th>4</th>\n",
       "      <td>654758551</td>\n",
       "      <td>7500.0</td>\n",
       "      <td>8598.0</td>\n",
       "      <td>2418.0</td>\n",
       "      <td>9654.0</td>\n",
       "      <td>1049.0</td>\n",
       "      <td>5000.0</td>\n",
       "      <td>3.0</td>\n",
       "    </tr>\n",
       "  </tbody>\n",
       "</table>\n",
       "</div>"
      ],
      "text/plain": [
       "    clientID  loanAmount_sum  amountPaid_sum     debt  clientMaxAmount  totalRefunded  penaltyDebt  loanID_count\n",
       "0  683755851         65333.0         75333.0  10411.0          25000.0         1146.0          0.0           7.0\n",
       "1  671846141             0.0             0.0      0.0           2000.0            0.0          0.0           0.0\n",
       "2  673587463         65500.0         75560.0      0.0          20518.0            0.0          0.0           6.0\n",
       "3  681126794          8800.0         10170.0   9988.0           8805.0          182.0       5000.0           1.0\n",
       "4  654758551          7500.0          8598.0   2418.0           9654.0         1049.0       5000.0           3.0"
      ]
     },
     "metadata": {},
     "output_type": "display_data"
    }
   ],
   "source": [
    "# Cell 3 - convert numeric columns we need (robustly)\n",
    "# list numeric cols we expect from earlier aggregation\n",
    "num_cols = [\n",
    "    \"loanAmount_sum\", \"loanAmount_max\", \"loanAmount_mean\",\n",
    "    \"amountPaid_sum\", \"amountPaid_mean\",\n",
    "    \"penaltyAmount_sum\", \"loanID_count\",\n",
    "    \"amount_sum\", \"amount_mean\", \"amount_count\",\n",
    "    \"debt\", \"clientMaxAmount\", \"totalRefunded\", \"penaltyDebt\"\n",
    "]\n",
    "\n",
    "# Convert if present; missing columns become 0\n",
    "for c in num_cols:\n",
    "    if c in df.columns:\n",
    "        df[c] = pd.to_numeric(df[c].str.replace(',', '').replace('', '0'), errors=\"coerce\").fillna(0.0)\n",
    "    else:\n",
    "        df[c] = 0.0\n",
    "\n",
    "# Ensure client id exists and is string\n",
    "if \"clientID\" in df.columns:\n",
    "    df[\"clientID\"] = df[\"clientID\"].astype(str)\n",
    "elif \"clientId\" in df.columns:\n",
    "    df[\"clientID\"] = df[\"clientId\"].astype(str)\n",
    "elif \"clientId\" not in df.columns and \"clientID\" not in df.columns:\n",
    "    raise RuntimeError(\"No clientID column found. Rename field to clientID/clientId.\")\n",
    "\n",
    "df = df.reset_index(drop=True)\n",
    "print(\"Numeric conversion done. Sample:\")\n",
    "display(df[[\"clientID\",\"loanAmount_sum\",\"amountPaid_sum\",\"debt\",\"clientMaxAmount\",\"totalRefunded\",\"penaltyDebt\",\"loanID_count\",]].head())"
   ]
  },
  {
   "cell_type": "code",
   "execution_count": 4,
   "id": "c39afde2-90cc-458b-87ca-b17b65233238",
   "metadata": {},
   "outputs": [
    {
     "name": "stdout",
     "output_type": "stream",
     "text": [
      "Columns after supervisor-approved drop:\n",
      "['clientMaxAmount', 'clientID', 'loanAmount_sum', 'loanAmount_max', 'loanAmount_mean', 'amountPaid_sum', 'amountPaid_mean', 'penaltyAmount_sum', 'loanID_count', 'amount_sum', 'amount_mean', 'amount_count']\n"
     ]
    }
   ],
   "source": [
    "#cell 4\n",
    "# Drop columns flagged by supervisor\n",
    "drop_cols = [\n",
    "    \"dailyLoanCount\", \"promoLoanCount\", \"debt\",\n",
    "    \"subscriptionAmount\", \"dueAmount\", \"totalRefunded\",\n",
    "    \"subscriptionDate\", \"unsubscriptionDate\", \"penaltyDebt\"\n",
    "]\n",
    "\n",
    "df = df.drop(columns=[c for c in drop_cols if c in df.columns])\n",
    "\n",
    "print(\"Columns after supervisor-approved drop:\")\n",
    "print(df.columns.tolist())\n"
   ]
  },
  {
   "cell_type": "code",
   "execution_count": 5,
   "id": "95406b07-6063-43db-bddf-285a6f7edda9",
   "metadata": {},
   "outputs": [
    {
     "name": "stdout",
     "output_type": "stream",
     "text": [
      "Sample CSV saved successfully!\n"
     ]
    }
   ],
   "source": [
    "# Export only first 10 rows for review\n",
    "df.head(10).to_csv(r\"E:\\client_features_sample.csv\", index=False, sep=\";\")\n",
    "print(\"Sample CSV saved successfully!\")"
   ]
  },
  {
   "cell_type": "code",
   "execution_count": 5,
   "id": "e3188a48-7e41-414b-beaa-764eae133b44",
   "metadata": {},
   "outputs": [
    {
     "name": "stdout",
     "output_type": "stream",
     "text": [
      "Engineered features added:\n",
      "    clientID  avg_loan_size  tx_activity  avg_tx_value  capacity_ratio\n",
      "0  683755851    9333.285714            9   2812.444444        3.571411\n",
      "1  671846141       0.000000            0      0.000000        0.000000\n",
      "2  673587463   10916.666667            4  10593.000000        2.885496\n",
      "3  681126794    8800.000000            0      0.000000        1.000000\n",
      "4  654758551    2500.000000           11    679.909091        2.400000\n",
      "5  651250572    1435.500000            0      0.000000        1.477534\n",
      "6  650482240    3489.400000           13   2069.923077        2.006076\n",
      "7  652987653    8750.000000            6   4748.500000        1.714286\n",
      "8  677289119   13600.000000            4   3132.250000        2.205882\n",
      "9  672454716   82500.000000            1   5500.000000        1.000000\n"
     ]
    }
   ],
   "source": [
    "\n",
    "df_fe = df.copy()\n",
    "\n",
    "# Feature 1: average loan size \n",
    "df_fe['avg_loan_size'] = df_fe['loanAmount_sum'] / df_fe['loanID_count'].clip(lower=1)\n",
    "\n",
    "# Feature 2: transaction activity = how many refunds/transactions recorded\n",
    "df_fe['tx_activity'] = df_fe['amount_count'].clip(lower=0)\n",
    "\n",
    "# Feature 3: average transaction value\n",
    "df_fe['avg_tx_value'] = df_fe['amount_sum'] / df_fe['amount_count'].clip(lower=1)\n",
    "\n",
    "# Feature 4: client capacity proxy = ratio of max loan given to observed average loan\n",
    "df_fe['capacity_ratio'] = df_fe['loanAmount_max'] / df_fe['avg_loan_size'].clip(lower=1)\n",
    "\n",
    "# Clean NaN/inf\n",
    "df_fe = df_fe.replace([np.inf, -np.inf], 0).fillna(0)\n",
    "\n",
    "print(\"Engineered features added:\")\n",
    "print(df_fe[['clientID','avg_loan_size','tx_activity','avg_tx_value','capacity_ratio']].head(10))\n"
   ]
  },
  {
   "cell_type": "code",
   "execution_count": 7,
   "id": "76cf6a6d-8c62-47a0-99bd-d7d9fdfeba3e",
   "metadata": {},
   "outputs": [
    {
     "name": "stdout",
     "output_type": "stream",
     "text": [
      "Sample CSV with engineered features saved successfully!\n"
     ]
    }
   ],
   "source": [
    "# Export engineered features sample\n",
    "df_fe.head(10).to_csv(r\"E:\\client_features_sample.csv\", index=False, sep=\";\")\n",
    "print(\"Sample CSV with engineered features saved successfully!\")\n"
   ]
  },
  {
   "cell_type": "code",
   "execution_count": 6,
   "id": "24e8368a-c351-4dd7-8bb6-439364978889",
   "metadata": {
    "scrolled": true
   },
   "outputs": [
    {
     "name": "stdout",
     "output_type": "stream",
     "text": [
      "Deterministic scoring sample:\n",
      "    clientID  avg_loan_size  tx_activity  avg_tx_value  capacity_ratio  proxy_deterministic\n",
      "0  683755851    9333.285714            9   2812.444444        3.571411          5192.984904\n",
      "1  671846141       0.000000            0      0.000000        0.000000           500.000000\n",
      "2  673587463   10916.666667            4  10593.000000        2.885496          5055.731425\n",
      "3  681126794    8800.000000            0      0.000000        1.000000          2760.000000\n",
      "4  654758551    2500.000000           11    679.909091        2.400000          3333.995455\n",
      "5  651250572    1435.500000            0      0.000000        1.477534          1525.866980\n",
      "6  650482240    3489.400000           13   2069.923077        2.006076          3604.413925\n",
      "7  652987653    8750.000000            6   4748.500000        1.714286          3944.567857\n",
      "8  677289119   13600.000000            4   3132.250000        2.205882          4659.553676\n",
      "9  672454716   82500.000000            1   5500.000000        1.000000          3875.000000\n"
     ]
    }
   ],
   "source": [
    "\n",
    "def det_score(row):\n",
    "    base = 500\n",
    "    \n",
    "    size_contrib     = min(2500, row['avg_loan_size'] * 0.2)\n",
    "    activity_contrib = min(2500, row['tx_activity'] * 100)   # each tx adds some weight\n",
    "    value_contrib    = min(2500, row['avg_tx_value'] * 0.05)\n",
    "    capacity_contrib = min(2500, row['capacity_ratio'] * 500) # scaled ratio\n",
    "    \n",
    "    score = base + size_contrib + activity_contrib + value_contrib + capacity_contrib\n",
    "    return min(10000, max(500, score))\n",
    "\n",
    "df_fe['proxy_deterministic'] = df_fe.apply(det_score, axis=1)\n",
    "\n",
    "print(\"Deterministic scoring sample:\")\n",
    "print(df_fe[['clientID','avg_loan_size','tx_activity','avg_tx_value','capacity_ratio','proxy_deterministic']].head(10))\n"
   ]
  },
  {
   "cell_type": "code",
   "execution_count": 7,
   "id": "ed28f5d6-063a-4b08-977c-80a246dbb760",
   "metadata": {},
   "outputs": [],
   "source": [
    "df_fe = df_fe[df_fe['clientID'].notna() & (df_fe['clientID'] != \"\")]\n"
   ]
  },
  {
   "cell_type": "code",
   "execution_count": 10,
   "id": "471e9917-4237-47db-9d8a-43c17b9d0ea3",
   "metadata": {},
   "outputs": [],
   "source": [
    "# Optional: clip activity and tx_value at 99th percentile\n",
    "for col in [\"tx_activity\", \"avg_tx_value\", \"capacity_ratio\"]:\n",
    "    hi = df_fe[col].quantile(0.99)    df_fe[col] = df_fe[col].clip(upper=hi)\n"
   ]
  },
  {
   "cell_type": "code",
   "execution_count": 11,
   "id": "816afe7a-9d12-4e7c-b7d8-019044781850",
   "metadata": {},
   "outputs": [
    {
     "name": "stdout",
     "output_type": "stream",
     "text": [
      "Score min: 500.0\n",
      "Score max: 8462.874390243902\n",
      "Any NaN clientIDs left? 0\n"
     ]
    }
   ],
   "source": [
    "print(\"Score min:\", df_fe['proxy_deterministic'].min())\n",
    "print(\"Score max:\", df_fe['proxy_deterministic'].max())\n",
    "print(\"Any NaN clientIDs left?\", df_fe['clientID'].isna().sum())\n"
   ]
  },
  {
   "cell_type": "code",
   "execution_count": 12,
   "id": "9fd46813-ea85-428d-8d9d-3033111ac3dd",
   "metadata": {},
   "outputs": [
    {
     "name": "stdout",
     "output_type": "stream",
     "text": [
      "Scores exported to E:\\client_scores.csv\n"
     ]
    }
   ],
   "source": [
    "# Export all scores\n",
    "df_fe[['clientID','avg_loan_size','tx_activity','avg_tx_value','capacity_ratio','proxy_deterministic']] \\\n",
    "    .to_csv(r\"E:\\client_scores.csv\", sep=\";\", index=False)\n",
    "\n",
    "print(\"Scores exported to E:\\\\client_scores.csv\")\n"
   ]
  },
  {
   "cell_type": "code",
   "execution_count": 8,
   "id": "03882285-fe36-47a4-8e0a-4c4c28dea0bf",
   "metadata": {},
   "outputs": [
    {
     "name": "stdout",
     "output_type": "stream",
     "text": [
      "Empirical model coefficients: {'repayment_ratio': np.float64(24261557.63953066), 'loan_to_capacity': np.float64(-2.7803550494705686e-09), 'penalty_ratio': np.float64(-1.1721410997037833e-07)}\n",
      "    clientID  proxy_empirical\n",
      "0  683755851       500.000000\n",
      "1  671846141       500.000000\n",
      "2  673587463       500.000000\n",
      "3  681126794       500.000000\n",
      "4  654758551       500.000000\n",
      "5  651250572       500.000000\n",
      "6  650482240       999.935490\n",
      "7  652987653       916.660975\n",
      "8  677289119       997.484119\n",
      "9  672454716       500.000000\n"
     ]
    }
   ],
   "source": [
    "from sklearn.linear_model import LinearRegression\n",
    "from sklearn.preprocessing import StandardScaler\n",
    "\n",
    "# Features for empirical model\n",
    "X = df_fe[['repayment_ratio','loan_to_capacity','penalty_ratio']].fillna(0)\n",
    "scaler = StandardScaler()\n",
    "X_scaled = scaler.fit_transform(X)\n",
    "\n",
    "# Target: assume repayment_ratio as proxy for \"good behavior\"\n",
    "y = df_fe['repayment_ratio'] * 10000\n",
    "\n",
    "# Fit regression\n",
    "reg = LinearRegression().fit(X_scaled, y)\n",
    "df_fe['proxy_empirical'] = reg.predict(X_scaled)\n",
    "\n",
    "# Scale to 500–10000\n",
    "df_fe['proxy_empirical'] = 500 + (df_fe['proxy_empirical'] - df_fe['proxy_empirical'].min()) / \\\n",
    "    (df_fe['proxy_empirical'].max() - df_fe['proxy_empirical'].min()) * 9500\n",
    "\n",
    "print(\"Empirical model coefficients:\", dict(zip(['repayment_ratio','loan_to_capacity','penalty_ratio'], reg.coef_)))\n",
    "print(df_fe[['clientID','proxy_empirical']].head(10))\n"
   ]
  },
  {
   "cell_type": "code",
   "execution_count": 5,
   "id": "922823ef-9fbd-424d-ae79-b974f82532d3",
   "metadata": {},
   "outputs": [
    {
     "name": "stdout",
     "output_type": "stream",
     "text": [
      "Sample CSV saved successfully!\n"
     ]
    }
   ],
   "source": [
    "# Export only first 10 rows for review\n",
    "df.head(10).to_csv(r\"E:\\client_features_sample.csv\", index=False, sep=\";\")\n",
    "print(\"Sample CSV saved successfully!\")"
   ]
  },
  {
   "cell_type": "code",
   "execution_count": 8,
   "id": "a7d5a6b3-4e40-4d84-acd9-beb259b79cf1",
   "metadata": {},
   "outputs": [
    {
     "name": "stdout",
     "output_type": "stream",
     "text": [
      "Sample CSV saved successfully!\n"
     ]
    }
   ],
   "source": [
    "# Export to CSV for review\n",
    "df.to_csv(r\"E:\\client_features.csv\", index=False, sep=\";\")\n",
    "print(\"CSV saved successfully!\")"
   ]
  },
  {
   "cell_type": "code",
   "execution_count": null,
   "id": "5f81b2b7-6759-4512-84a3-7c0bd5db5786",
   "metadata": {},
   "outputs": [],
   "source": []
  }
 ],
 "metadata": {
  "kernelspec": {
   "display_name": "Python [conda env:base] *",
   "language": "python",
   "name": "conda-base-py"
  },
  "language_info": {
   "codemirror_mode": {
    "name": "ipython",
    "version": 3
   },
   "file_extension": ".py",
   "mimetype": "text/x-python",
   "name": "python",
   "nbconvert_exporter": "python",
   "pygments_lexer": "ipython3",
   "version": "3.13.5"
  }
 },
 "nbformat": 4,
 "nbformat_minor": 5
}
